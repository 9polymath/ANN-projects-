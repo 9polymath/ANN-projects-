{
  "nbformat": 4,
  "nbformat_minor": 0,
  "metadata": {
    "colab": {
      "name": "Assignment 3.ipynb",
      "provenance": [],
      "collapsed_sections": []
    },
    "kernelspec": {
      "name": "python3",
      "display_name": "Python 3"
    }
  },
  "cells": [
    {
      "cell_type": "code",
      "metadata": {
        "id": "YYwXDYWmT6Uc"
      },
      "source": [
        "%matplotlib inline\n",
        "import numpy as np\n",
        "import matplotlib.pyplot as plt\n",
        "import torch\n",
        "import torch.nn as nn\n",
        "import random\n",
        "\n",
        "#Set random seeds for reproducibility\n",
        "torch.manual_seed(0)\n",
        "np.random.seed(0)"
      ],
      "execution_count": 27,
      "outputs": []
    },
    {
      "cell_type": "markdown",
      "metadata": {
        "id": "WAkFzKCGT2Mg"
      },
      "source": [
        "# Question 1 "
      ]
    },
    {
      "cell_type": "code",
      "metadata": {
        "colab": {
          "base_uri": "https://localhost:8080/",
          "height": 298
        },
        "id": "TR5A97KHlCur",
        "outputId": "1a770ff3-116c-460b-cf0b-164feca3d3da"
      },
      "source": [
        "def ReLU(x):\n",
        "  return torch.maximum(torch.tensor(0), x)\n",
        "\n",
        "n_points = 200\n",
        "x_lim = torch.linspace(-1, 1, n_points).reshape(-1,1)\n",
        "y_pred = [ReLU(x) for x in x_lim]\n",
        "\n",
        "plt.plot(x_lim.detach().numpy(), y_pred)\n",
        "plt.title(\"R e L U(x)\")"
      ],
      "execution_count": 28,
      "outputs": [
        {
          "output_type": "execute_result",
          "data": {
            "text/plain": [
              "Text(0.5, 1.0, 'R e L U(x)')"
            ]
          },
          "metadata": {
            "tags": []
          },
          "execution_count": 28
        },
        {
          "output_type": "display_data",
          "data": {
            "image/png": "[encoded data removed]",
            "text/plain": [
              "<Figure size 432x288 with 1 Axes>"
            ]
          },
          "metadata": {
            "tags": [],
            "needs_background": "light"
          }
        }
      ]
    },
    {
      "cell_type": "markdown",
      "metadata": {
        "id": "8Zf8RrVJorGC"
      },
      "source": [
        "# Question 2\n"
      ]
    },
    {
      "cell_type": "code",
      "metadata": {
        "id": "8-sMpcGOS658",
        "colab": {
          "base_uri": "https://localhost:8080/",
          "height": 282
        },
        "outputId": "bc8c8625-2859-4d84-ca0d-5da8a6c4974d"
      },
      "source": [
        "#ReLU activation\n",
        "class Net_ReLU(nn.Module):\n",
        "    def __init__(self, width):\n",
        "        super(Net_ReLU, self).__init__()\n",
        "        input_size = 1\n",
        "        output_size = 1\n",
        "        self.input = nn.Linear(input_size, width, bias=True)  \n",
        "        self.hidden = nn.Linear(width, width, bias=True)\n",
        "        self.output = nn.Linear(width, output_size, bias=True) \n",
        "\n",
        "        #Define relu activation\n",
        "        self.act = ReLU \n",
        "\n",
        "    def forward(self, x):\n",
        "        x = self.act(self.input(x)) \n",
        "        x = self.act(self.hidden(x)) \n",
        "        x = self.output(x) \n",
        "        return x\n",
        "\n",
        "#Logic for initializing weights and biases\n",
        "# https://stackoverflow.com/questions/49433936/how-to-initialize-weights-in-pytorch\n",
        "\n",
        "N = 16 \n",
        "net = Net_ReLU(N)\n",
        "for _, param in net.named_parameters():\n",
        "  param.data.fill_(0.1)\n",
        "\n",
        "net.eval()\n",
        "x_lim = torch.linspace(-1, 1, n_points).reshape(-1,1)\n",
        "y_pred = net(x_lim)\n",
        "plt.plot(x_lim.detach().numpy(), y_pred.detach().numpy())\n",
        "\n",
        "        "
      ],
      "execution_count": 29,
      "outputs": [
        {
          "output_type": "execute_result",
          "data": {
            "text/plain": [
              "[<matplotlib.lines.Line2D at 0x7f28ad615350>]"
            ]
          },
          "metadata": {
            "tags": []
          },
          "execution_count": 29
        },
        {
          "output_type": "display_data",
          "data": {
            "image/png": "[encoded data removed]",
            "text/plain": [
              "<Figure size 432x288 with 1 Axes>"
            ]
          },
          "metadata": {
            "tags": [],
            "needs_background": "light"
          }
        }
      ]
    },
    {
      "cell_type": "markdown",
      "metadata": {
        "id": "M08lCBYl5CzH"
      },
      "source": [
        "# Question 3"
      ]
    },
    {
      "cell_type": "code",
      "metadata": {
        "colab": {
          "base_uri": "https://localhost:8080/",
          "height": 282
        },
        "id": "4THKNUY-6Xfs",
        "outputId": "29ad41e0-6131-413a-f210-31fe63c5f7a4"
      },
      "source": [
        "N = 16 \n",
        "net = Net_ReLU(N)\n",
        "for _, param in net.named_parameters():\n",
        "  param.data.fill_(np.random.normal(0., 0.1))\n",
        "  \n",
        "net.eval()\n",
        "x_lim = torch.linspace(-2*np.pi, 2*np.pi, n_points).reshape(-1,1)\n",
        "y_pred = net(x_lim)\n",
        "plt.plot(x_lim.detach().numpy(), y_pred.detach().numpy())"
      ],
      "execution_count": 32,
      "outputs": [
        {
          "output_type": "execute_result",
          "data": {
            "text/plain": [
              "[<matplotlib.lines.Line2D at 0x7f28ad579b90>]"
            ]
          },
          "metadata": {
            "tags": []
          },
          "execution_count": 32
        },
        {
          "output_type": "display_data",
          "data": {
            "image/png": "[encoded data removed]",
            "text/plain": [
              "<Figure size 432x288 with 1 Axes>"
            ]
          },
          "metadata": {
            "tags": [],
            "needs_background": "light"
          }
        }
      ]
    },
    {
      "cell_type": "markdown",
      "metadata": {
        "id": "67z5NbOT8Kvj"
      },
      "source": [
        "# Question 4\n"
      ]
    },
    {
      "cell_type": "code",
      "metadata": {
        "colab": {
          "base_uri": "https://localhost:8080/",
          "height": 371
        },
        "id": "HCyAAPXv8QdR",
        "outputId": "9d0e4557-0453-47b4-9b65-864e173f231b"
      },
      "source": [
        "N = 16 \n",
        "net = Net_ReLU(N)\n",
        "x_1 = torch.linspace(1, 1, 1).reshape(-1,1)\n",
        "x_lim = torch.linspace(-2*np.pi, 2*np.pi, n_points).reshape(-1,1)\n",
        "num_runs = 1000\n",
        "histogram = []\n",
        "# Attempted to mask values of when x_lim == 1, however, no values from x_lim == 1 \n",
        "mask = x_lim.eq(torch.tensor(1.))\n",
        "x_masked = torch.masked_select(x_lim, mask).reshape(-1,1)\n",
        "for i in range(num_runs):\n",
        "  for _, param in net.named_parameters():\n",
        "    param.data.fill_(np.random.normal(0., 0.1))\n",
        "    \n",
        "  net.eval()\n",
        "  y_pred = net(x_1)\n",
        "  histogram.append(y_pred.detach().numpy().squeeze())\n",
        "\n",
        "plt.hist(np.array(histogram), bins=20, range=(-1,1))\n"
      ],
      "execution_count": 41,
      "outputs": [
        {
          "output_type": "execute_result",
          "data": {
            "text/plain": [
              "(array([  0.,   5.,   4.,   1.,   5.,   9.,  21.,  51., 128., 279., 294.,\n",
              "        121.,  39.,  16.,   6.,   7.,   5.,   0.,   3.,   1.]),\n",
              " array([-1. , -0.9, -0.8, -0.7, -0.6, -0.5, -0.4, -0.3, -0.2, -0.1,  0. ,\n",
              "         0.1,  0.2,  0.3,  0.4,  0.5,  0.6,  0.7,  0.8,  0.9,  1. ],\n",
              "       dtype=float32),\n",
              " <a list of 20 Patch objects>)"
            ]
          },
          "metadata": {
            "tags": []
          },
          "execution_count": 41
        },
        {
          "output_type": "display_data",
          "data": {
            "image/png": "[encoded data removed]",
            "text/plain": [
              "<Figure size 432x288 with 1 Axes>"
            ]
          },
          "metadata": {
            "tags": [],
            "needs_background": "light"
          }
        }
      ]
    },
    {
      "cell_type": "markdown",
      "metadata": {
        "id": "ZLCUBi_j-dDC"
      },
      "source": [
        "# Question 5\n"
      ]
    },
    {
      "cell_type": "code",
      "metadata": {
        "colab": {
          "base_uri": "https://localhost:8080/",
          "height": 353
        },
        "id": "Mh7NSajD-hL0",
        "outputId": "a6d61f5c-a170-4fe4-bbfb-78acf0a0f81c"
      },
      "source": [
        "N = 16 \n",
        "net = Net_ReLU(N)\n",
        "x_1 = torch.linspace(1, 1, 1).reshape(-1,1)\n",
        "num_runs = 1000\n",
        "histogram = []\n",
        "for i in range(num_runs):\n",
        "  for _, param in net.named_parameters():\n",
        "    param.data.fill_(np.random.normal(0., 0.5))\n",
        "    \n",
        "  net.eval()\n",
        "  y_pred = net(x_1)\n",
        "  histogram.append(y_pred.detach().numpy().squeeze())\n",
        "  \n",
        "plt.hist(np.array(histogram), bins=12, range=(-3,3))"
      ],
      "execution_count": 40,
      "outputs": [
        {
          "output_type": "execute_result",
          "data": {
            "text/plain": [
              "(array([ 11.,   7.,  11.,  22.,  85., 213., 219.,  96.,  34.,  25.,  14.,\n",
              "          7.]),\n",
              " array([-3. , -2.5, -2. , -1.5, -1. , -0.5,  0. ,  0.5,  1. ,  1.5,  2. ,\n",
              "         2.5,  3. ], dtype=float32),\n",
              " <a list of 12 Patch objects>)"
            ]
          },
          "metadata": {
            "tags": []
          },
          "execution_count": 40
        },
        {
          "output_type": "display_data",
          "data": {
            "image/png": "[encoded data removed]",
            "text/plain": [
              "<Figure size 432x288 with 1 Axes>"
            ]
          },
          "metadata": {
            "tags": [],
            "needs_background": "light"
          }
        }
      ]
    },
    {
      "cell_type": "markdown",
      "metadata": {
        "id": "kUDPos1Sv5vV"
      },
      "source": [
        "The difference is that 99% of the data falls between - 1.5 to 1.5 instead of - 0.3 to 0.3 like question 4 due to the different variance used in question 5"
      ]
    }
  ]
}